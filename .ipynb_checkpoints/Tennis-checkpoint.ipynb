{
 "cells": [
  {
   "cell_type": "markdown",
   "metadata": {},
   "source": [
    "# Collaboration and Competition\n",
    "\n",
    "---\n",
    "\n",
    "You are welcome to use this coding environment to train your agent for the project.  Follow the instructions below to get started!\n",
    "\n",
    "### 1. Start the Environment\n",
    "\n",
    "Run the next code cell to install a few packages.  This line will take a few minutes to run!"
   ]
  },
  {
   "cell_type": "code",
   "execution_count": 1,
   "metadata": {},
   "outputs": [
    {
     "name": "stdout",
     "output_type": "stream",
     "text": [
      "\u001b[31mtensorflow 1.7.1 has requirement numpy>=1.13.3, but you'll have numpy 1.12.1 which is incompatible.\u001b[0m\r\n",
      "\u001b[31mipython 6.5.0 has requirement prompt-toolkit<2.0.0,>=1.0.15, but you'll have prompt-toolkit 3.0.16 which is incompatible.\u001b[0m\r\n"
     ]
    }
   ],
   "source": [
    "!pip -q install ./python"
   ]
  },
  {
   "cell_type": "markdown",
   "metadata": {},
   "source": [
    "The environment is already saved in the Workspace and can be accessed at the file path provided below. "
   ]
  },
  {
   "cell_type": "code",
   "execution_count": 2,
   "metadata": {},
   "outputs": [
    {
     "name": "stderr",
     "output_type": "stream",
     "text": [
      "INFO:unityagents:\n",
      "'Academy' started successfully!\n",
      "Unity Academy name: Academy\n",
      "        Number of Brains: 1\n",
      "        Number of External Brains : 1\n",
      "        Lesson number : 0\n",
      "        Reset Parameters :\n",
      "\t\t\n",
      "Unity brain name: TennisBrain\n",
      "        Number of Visual Observations (per agent): 0\n",
      "        Vector Observation space type: continuous\n",
      "        Vector Observation space size (per agent): 8\n",
      "        Number of stacked Vector Observation: 3\n",
      "        Vector Action space type: continuous\n",
      "        Vector Action space size (per agent): 2\n",
      "        Vector Action descriptions: , \n"
     ]
    }
   ],
   "source": [
    "from unityagents import UnityEnvironment\n",
    "import numpy as np\n",
    "\n",
    "env_file_name = \"/data/Tennis_Linux_NoVis/Tennis\"\n",
    "env = UnityEnvironment(file_name=env_file_name)"
   ]
  },
  {
   "cell_type": "markdown",
   "metadata": {},
   "source": [
    "Environments contain **_brains_** which are responsible for deciding the actions of their associated agents. Here we check for the first brain available, and set it as the default brain we will be controlling from Python."
   ]
  },
  {
   "cell_type": "code",
   "execution_count": 3,
   "metadata": {},
   "outputs": [],
   "source": [
    "# get the default brain\n",
    "brain_name = env.brain_names[0]\n",
    "brain = env.brains[brain_name]"
   ]
  },
  {
   "cell_type": "markdown",
   "metadata": {},
   "source": [
    "### 2. Examine the State and Action Spaces\n",
    "\n",
    "Run the code cell below to print some information about the environment."
   ]
  },
  {
   "cell_type": "code",
   "execution_count": 4,
   "metadata": {},
   "outputs": [
    {
     "name": "stdout",
     "output_type": "stream",
     "text": [
      "Number of agents: 2\n",
      "Size of each action: 2\n",
      "There are 2 agents. Each observes a state with length: 24\n",
      "The state for the first agent looks like: [ 0.          0.          0.          0.          0.          0.          0.\n",
      "  0.          0.          0.          0.          0.          0.          0.\n",
      "  0.          0.         -6.65278625 -1.5        -0.          0.\n",
      "  6.83172083  6.         -0.          0.        ]\n"
     ]
    }
   ],
   "source": [
    "# reset the environment\n",
    "env_info = env.reset(train_mode=True)[brain_name]\n",
    "\n",
    "# number of agents \n",
    "num_agents = len(env_info.agents)\n",
    "print('Number of agents:', num_agents)\n",
    "\n",
    "# size of each action\n",
    "action_size = brain.vector_action_space_size\n",
    "print('Size of each action:', action_size)\n",
    "\n",
    "# examine the state space \n",
    "states = env_info.vector_observations\n",
    "state_size = states.shape[1]\n",
    "print('There are {} agents. Each observes a state with length: {}'.format(states.shape[0], state_size))\n",
    "print('The state for the first agent looks like:', states[0])"
   ]
  },
  {
   "cell_type": "markdown",
   "metadata": {},
   "source": [
    "### 3. Take Random Actions in the Environment\n",
    "\n",
    "In the next code cell, you will learn how to use the Python API to control the agent and receive feedback from the environment.\n",
    "\n",
    "Note that **in this coding environment, you will not be able to watch the agents while they are training**, and you should set `train_mode=True` to restart the environment."
   ]
  },
  {
   "cell_type": "code",
   "execution_count": 5,
   "metadata": {},
   "outputs": [
    {
     "name": "stdout",
     "output_type": "stream",
     "text": [
      "Total score (averaged over agents) this episode: -0.004999999888241291\n",
      "Total score (averaged over agents) this episode: -0.004999999888241291\n",
      "Total score (averaged over agents) this episode: -0.004999999888241291\n",
      "Total score (averaged over agents) this episode: -0.004999999888241291\n",
      "Total score (averaged over agents) this episode: 0.04500000085681677\n"
     ]
    }
   ],
   "source": [
    "for i in range(5):                                         # play game for 5 episodes\n",
    "    env_info = env.reset(train_mode=False)[brain_name]     # reset the environment    \n",
    "    states = env_info.vector_observations                  # get the current state (for each agent)\n",
    "    scores = np.zeros(num_agents)                          # initialize the score (for each agent)\n",
    "    while True:\n",
    "        actions = np.random.randn(num_agents, action_size) # select an action (for each agent)\n",
    "        actions = np.clip(actions, -1, 1)                  # all actions between -1 and 1\n",
    "        env_info = env.step(actions)[brain_name]           # send all actions to tne environment\n",
    "        next_states = env_info.vector_observations         # get next state (for each agent)\n",
    "        rewards = env_info.rewards                         # get reward (for each agent)\n",
    "        dones = env_info.local_done                        # see if episode finished\n",
    "        scores += env_info.rewards                         # update the score (for each agent)\n",
    "        states = next_states                               # roll over states to next time step\n",
    "        if np.any(dones):                                  # exit loop if episode finished\n",
    "            break\n",
    "    print('Total score (averaged over agents) this episode: {}'.format(np.mean(scores)))"
   ]
  },
  {
   "cell_type": "markdown",
   "metadata": {},
   "source": [
    "When finished, you can close the environment."
   ]
  },
  {
   "cell_type": "code",
   "execution_count": 6,
   "metadata": {},
   "outputs": [],
   "source": [
    "#env.close()"
   ]
  },
  {
   "cell_type": "markdown",
   "metadata": {},
   "source": [
    "### 4. It's Your Turn!\n",
    "\n",
    "Now it's your turn to train your own agent to solve the environment!  A few **important notes**:\n",
    "- When training the environment, set `train_mode=True`, so that the line for resetting the environment looks like the following:\n",
    "```python\n",
    "env_info = env.reset(train_mode=True)[brain_name]\n",
    "```\n",
    "- To structure your work, you're welcome to work directly in this Jupyter notebook, or you might like to start over with a new file!  You can see the list of files in the workspace by clicking on **_Jupyter_** in the top left corner of the notebook.\n",
    "- In this coding environment, you will not be able to watch the agents while they are training.  However, **_after training the agents_**, you can download the saved model weights to watch the agents on your own machine! "
   ]
  },
  {
   "cell_type": "code",
   "execution_count": 7,
   "metadata": {},
   "outputs": [
    {
     "name": "stdout",
     "output_type": "stream",
     "text": [
      "In DPPG_AGENT: seed =  0\n",
      "In DPPG_AGENT: seed =  0\n"
     ]
    }
   ],
   "source": [
    "from maddpg import MultiAgent\n",
    "\n",
    "agent = MultiAgent(\n",
    "    state_size=state_size,     # State vector\n",
    "    action_size=action_size,   # Number of actions\n",
    "    num_agents = num_agents,   # Number of agents\n",
    "    seed=0,                 # See for random number generator\n",
    "    buffer_size = int(1e5),    # Number of samples to be stored in memory\n",
    "    batch_size = 512,         # Number of samples per batch to be drawn from memory\n",
    "    num_batches = 5,           # Number of batches of experiences that the agent should draw from memory\n",
    "    update_every = 10,          # Number of timesteps after which the agents should learn from drawn experiences\n",
    "    gamma = 1.0,                # Discount factor\n",
    "    tau = 1e-2,                # Mixing ratio for local and target networks\n",
    "    learning_rate_actor=1e-3,  #1e-3 # learning rate for the actor\n",
    "    learning_rate_critic=1e-3, # Learning rate for the critic\n",
    "    hidden_layers_actor=[256,128,32],\n",
    "    hidden_layers_critic=[256,128,32], # 2 fully connected layers + 4 per head\n",
    "    weight_decay = 0.0000,\n",
    "    add_noise = True,                           # Add noise to the predicted action?\n",
    "    start_eps = 5.0,                            # Initial noise scaling for first episode\n",
    "    end_eps = 0.00,                              # Smallest noise scaling for any episode\n",
    "    end_eps_episode = 300                       # Number of Episodes over which to reduce noise scaling \n",
    ")"
   ]
  },
  {
   "cell_type": "code",
   "execution_count": 8,
   "metadata": {},
   "outputs": [],
   "source": [
    "from experiments import Continuous_Action_Experiments"
   ]
  },
  {
   "cell_type": "code",
   "execution_count": 9,
   "metadata": {},
   "outputs": [],
   "source": [
    "# DEFINE THE TARGET AS ACHIEVING A SPECIFIC RUNNING AVERAGE SCORE, AVERAGED OVER A GIVEN NUMBER OF EPISODES\n",
    "# Set the number of episodes to get running average over\n",
    "nepisodes_running_avg = 100\n",
    "\n",
    "# Set the target score that must be achieved for a 'successful' agent\n",
    "objective_score = 0.5 #0.5"
   ]
  },
  {
   "cell_type": "code",
   "execution_count": 10,
   "metadata": {},
   "outputs": [],
   "source": [
    "env_info = env.reset(train_mode=False)[brain_name]"
   ]
  },
  {
   "cell_type": "code",
   "execution_count": 11,
   "metadata": {},
   "outputs": [],
   "source": [
    "state = env_info.vector_observations"
   ]
  },
  {
   "cell_type": "code",
   "execution_count": 12,
   "metadata": {},
   "outputs": [
    {
     "name": "stdout",
     "output_type": "stream",
     "text": [
      "num_agents =  2\n"
     ]
    }
   ],
   "source": [
    "num_agents = state.shape[0]\n",
    "print('num_agents = ', num_agents)"
   ]
  },
  {
   "cell_type": "code",
   "execution_count": 13,
   "metadata": {},
   "outputs": [
    {
     "name": "stdout",
     "output_type": "stream",
     "text": [
      "Continuous Action Experiment initialized\n"
     ]
    }
   ],
   "source": [
    "# Run the experiment\n",
    "current_experiment = Continuous_Action_Experiments(\n",
    "    nagents = num_agents,                       # Number of agents\n",
    "    nruns = 2,                                  # Number of runs for which the target objective score will be achieved\n",
    "    nepisodes = 5000,                           # Number of episodes per run\n",
    "    maxt = 1000,                                # Maximum number of steps per episode\n",
    "    current_agent = agent,                      # Agent to be used\n",
    "    env_file_name = env_file_name,\n",
    "    current_env = env,                          # Environment to run the experiment in\n",
    "    target_score = objective_score,             # Target score to be achieved during each repetition of the experiment\n",
    "    num_episodes_score_avg = nepisodes_running_avg # Number of episodes over which the running average score will be calculated\n",
    ")"
   ]
  },
  {
   "cell_type": "code",
   "execution_count": 14,
   "metadata": {
    "scrolled": false
   },
   "outputs": [
    {
     "name": "stdout",
     "output_type": "stream",
     "text": [
      "Running experiment\n",
      "current experiment number =  0\n",
      "\n",
      "\n",
      "Run 0 \tEpisode_Num 0 \tAverage Score: 0.000\n",
      "Run 0 \tEpisode_Num 100 \tAverage Score: 0.011\n",
      "Run 0 \tEpisode_Num 200 \tAverage Score: 0.010\n",
      "Run 0 \tEpisode_Num 300 \tAverage Score: 0.008\n",
      "Run 0 \tEpisode_Num 400 \tAverage Score: 0.029\n",
      "Run 0 \tEpisode_Num 500 \tAverage Score: 0.031\n",
      "Run 0 \tEpisode_Num 600 \tAverage Score: 0.051\n",
      "Run 0 \tEpisode_Num 700 \tAverage Score: 0.060\n",
      "Run 0 \tEpisode_Num 800 \tAverage Score: 0.049\n",
      "Run 0 \tEpisode_Num 900 \tAverage Score: 0.071\n",
      "Run 0 \tEpisode_Num 1000 \tAverage Score: 0.110\n",
      "Run 0 \tEpisode_Num 1100 \tAverage Score: 0.080\n",
      "Run 0 \tEpisode_Num 1200 \tAverage Score: 0.080\n",
      "Run 0 \tEpisode_Num 1300 \tAverage Score: 0.080\n",
      "Run 0 \tEpisode_Num 1400 \tAverage Score: 0.071\n",
      "Run 0 \tEpisode_Num 1500 \tAverage Score: 0.075\n",
      "Run 0 \tEpisode_Num 1600 \tAverage Score: 0.079\n",
      "Run 0 \tEpisode_Num 1700 \tAverage Score: 0.106\n",
      "Run 0 \tEpisode_Num 1800 \tAverage Score: 0.091\n",
      "Run 0 \tEpisode_Num 1900 \tAverage Score: 0.138\n",
      "Run 0 \tEpisode_Num 2000 \tAverage Score: 0.222\n",
      "Run 0 \tEpisode_Num 2100 \tAverage Score: 0.355\n",
      "\n",
      "Environment solved in 2167 episodes!\tAverage Score: 0.516 \tTotal time/seconds: 2272.573\n",
      "end of run :  0\n",
      "current experiment number =  1\n",
      "\n",
      "\n",
      "Run 1 \tEpisode_Num 0 \tAverage Score: 0.100\n",
      "Run 1 \tEpisode_Num 100 \tAverage Score: 0.005\n",
      "Run 1 \tEpisode_Num 200 \tAverage Score: 0.011\n",
      "Run 1 \tEpisode_Num 300 \tAverage Score: 0.018\n",
      "Run 1 \tEpisode_Num 400 \tAverage Score: 0.028\n",
      "Run 1 \tEpisode_Num 500 \tAverage Score: 0.028\n",
      "Run 1 \tEpisode_Num 600 \tAverage Score: 0.042\n",
      "Run 1 \tEpisode_Num 700 \tAverage Score: 0.055\n",
      "Run 1 \tEpisode_Num 800 \tAverage Score: 0.065\n",
      "Run 1 \tEpisode_Num 900 \tAverage Score: 0.063\n",
      "Run 1 \tEpisode_Num 1000 \tAverage Score: 0.082\n",
      "Run 1 \tEpisode_Num 1100 \tAverage Score: 0.069\n",
      "Run 1 \tEpisode_Num 1200 \tAverage Score: 0.092\n",
      "Run 1 \tEpisode_Num 1300 \tAverage Score: 0.074\n",
      "Run 1 \tEpisode_Num 1400 \tAverage Score: 0.115\n",
      "Run 1 \tEpisode_Num 1500 \tAverage Score: 0.109\n",
      "Run 1 \tEpisode_Num 1600 \tAverage Score: 0.164\n",
      "Run 1 \tEpisode_Num 1700 \tAverage Score: 0.234\n",
      "Run 1 \tEpisode_Num 1800 \tAverage Score: 0.228\n",
      "Run 1 \tEpisode_Num 1900 \tAverage Score: 0.173\n",
      "Run 1 \tEpisode_Num 2000 \tAverage Score: 0.170\n",
      "Run 1 \tEpisode_Num 2100 \tAverage Score: 0.250\n",
      "\n",
      "Environment solved in 2172 episodes!\tAverage Score: 0.504 \tTotal time/seconds: 2530.150\n",
      "end of run :  1\n",
      " Number of experiments that were successful =  2 / 2\n",
      "\n",
      "Average number of episodes required to reach target score : 2169.500000 +/- 2.500000\n",
      "Average time/seconds per run required to reach target score : 2401.462885 +/- 128.691792\n"
     ]
    }
   ],
   "source": [
    "# Run the experiment and collect score information\n",
    "all_scores, all_avg_scores, nsuccess = current_experiment.run_experiment()"
   ]
  },
  {
   "cell_type": "markdown",
   "metadata": {},
   "source": [
    "### Display the Results"
   ]
  },
  {
   "cell_type": "code",
   "execution_count": 15,
   "metadata": {},
   "outputs": [
    {
     "data": {
      "text/html": [
       "\n",
       "<style>\n",
       ".output_png {\n",
       "    display: table-cell;\n",
       "    text-align: center;\n",
       "    vertical-align: middle;\n",
       "}\n",
       "</style>\n"
      ],
      "text/plain": [
       "<IPython.core.display.HTML object>"
      ]
     },
     "execution_count": 15,
     "metadata": {},
     "output_type": "execute_result"
    }
   ],
   "source": [
    "import matplotlib.pyplot as plt\n",
    "%matplotlib inline\n",
    "import pandas as pd\n",
    "from IPython.core.display import HTML\n",
    "\n",
    "HTML(\"\"\"\n",
    "<style>\n",
    ".output_png {\n",
    "    display: table-cell;\n",
    "    text-align: center;\n",
    "    vertical-align: middle;\n",
    "}\n",
    "</style>\n",
    "\"\"\")"
   ]
  },
  {
   "cell_type": "code",
   "execution_count": 16,
   "metadata": {},
   "outputs": [],
   "source": [
    "# Display the results in the notebook and save figure\n",
    "def display_results(all_scores):\n",
    "    print('Number of plots to be made = ', len(all_scores))\n",
    "    \n",
    "    # Find the number of rows\n",
    "    if len(all_scores)>1:\n",
    "        nrows = int(np.ceil(len(all_scores)/2))\n",
    "        ncols = 2\n",
    "    elif len(all_scores)==1:\n",
    "        nrows = 1\n",
    "        ncols = 1\n",
    "    print('nrows = ', nrows, ' ncols = ', ncols)\n",
    "    \n",
    "    if len(all_scores)>2:\n",
    "        # Display the scores per episode along with the running averarage over 100 episodes and target score\n",
    "        fig, ax = plt.subplots(nrows, ncols, sharex=True, sharey=True, figsize=[16, 20])\n",
    "        #fig.suptitle(\"Target, per episode and running average scores for each experiment\", fontsize=20)\n",
    "    elif len(all_scores)==1:\n",
    "         # Display the scores per episode along with the running averarage over 100 episodes and target score\n",
    "        fig, ax = plt.subplots(nrows, ncols, sharex=True, sharey=True, figsize=[8, 4])       \n",
    "    elif len(all_scores)==2:\n",
    "         # Display the scores per episode along with the running averarage over 100 episodes and target score\n",
    "        fig, ax = plt.subplots(nrows, ncols, sharex=True, sharey=True, figsize=[16, 4])  \n",
    "        \n",
    "    if len(all_scores)%2!=0 and len(all_scores)>1:\n",
    "        print('delete last block', nrows-1, ncols-1)\n",
    "        fig.delaxes(ax[nrows-1,ncols-1])\n",
    "    plt.rcParams.update({'font.size': 14})\n",
    "    \n",
    "    # For each run\n",
    "    for idx in range(len(all_scores)):\n",
    "        # Get the list of scores for each episode in this run\n",
    "        scores = all_scores[idx]\n",
    "        #print('idx = ',idx, 'scores are: ',scores)\n",
    "            \n",
    "        # Get the rolling average over self.num_episodes_score_avg successive values of score\n",
    "        scores_rolling = pd.Series(scores).rolling(nepisodes_running_avg).mean()\n",
    "        \n",
    "        #rowid = int(np.ceil(idx/2))\n",
    "        rowid = idx//2\n",
    "        colid = idx%2\n",
    "        #print(idx, rowid, colid)\n",
    "        \n",
    "        if len(all_scores)>2:\n",
    "            # Style for score\n",
    "            ax[rowid,colid].plot(scores, \"-\", c=\"blue\", alpha=0.25)\n",
    "        \n",
    "            titlestr = 'Run ' + str(idx+1)\n",
    "            ax[rowid, colid].set_title(titlestr)\n",
    "\n",
    "            # Stype for rolling average of score\n",
    "            ax[rowid,colid].plot(scores_rolling, \"-\", c=\"green\", linewidth=5, alpha=0.25)\n",
    "\n",
    "            # Display target score\n",
    "            ax[rowid,colid].axhline(objective_score, c=\"red\", linewidth=5, alpha=0.25)\n",
    "\n",
    "            # Set labels\n",
    "            ax[rowid,colid].set_xlabel(\"Episode\")\n",
    "            ax[rowid,colid].set_ylabel(\"Score\")\n",
    "\n",
    "            # Display grid\n",
    "            ax[rowid,colid].grid(which=\"major\")\n",
    "            ax[rowid,colid].legend([\"Score of Each Episode\", \"Moving Average over Episodes\", \"Target\"])\n",
    "        elif len(all_scores)==1:\n",
    "            # Style for score\n",
    "            ax.plot(scores, \"-\", c=\"blue\", alpha=0.25)\n",
    "        \n",
    "            titlestr = 'Run ' + str(idx+1)\n",
    "            ax.set_title(titlestr)\n",
    "\n",
    "            # Stype for rolling average of score\n",
    "            ax.plot(scores_rolling, \"-\", c=\"green\", linewidth=5, alpha=0.25)\n",
    "\n",
    "            # Display target score\n",
    "            ax.axhline(objective_score, c=\"red\", linewidth=5, alpha=0.25)\n",
    "\n",
    "            # Set labels\n",
    "            ax.set_xlabel(\"Episode\")\n",
    "            ax.set_ylabel(\"Score\")\n",
    "\n",
    "            # Display grid\n",
    "            ax.grid(which=\"major\")\n",
    "            ax.legend([\"Score of Each Episode\", \"Moving Average over Episodes\", \"Target\"])\n",
    "        elif len(all_scores)==2:\n",
    "            # Style for score\n",
    "            ax[colid].plot(scores, \"-\", c=\"blue\", alpha=0.25)\n",
    "        \n",
    "            titlestr = 'Run ' + str(idx+1)\n",
    "            ax[colid].set_title(titlestr)\n",
    "\n",
    "            # Stype for rolling average of score\n",
    "            ax[colid].plot(scores_rolling, \"-\", c=\"green\", linewidth=5, alpha=0.25)\n",
    "\n",
    "            # Display target score\n",
    "            ax[colid].axhline(objective_score, c=\"red\", linewidth=5, alpha=0.25)\n",
    "\n",
    "            # Set labels\n",
    "            ax[colid].set_xlabel(\"Episode\")\n",
    "            ax[colid].set_ylabel(\"Score\")\n",
    "\n",
    "            # Display grid\n",
    "            ax[colid].grid(which=\"major\")\n",
    "            ax[colid].legend([\"Score of Each Episode\", \"Moving Average over Episodes\", \"Target\"])\n",
    "            \n",
    "    # Save figure\n",
    "    fig.tight_layout()\n",
    "    fig.savefig(\"result_score.jpg\")"
   ]
  },
  {
   "cell_type": "code",
   "execution_count": 17,
   "metadata": {},
   "outputs": [
    {
     "name": "stdout",
     "output_type": "stream",
     "text": [
      "Number of plots to be made =  2\n",
      "nrows =  1  ncols =  2\n"
     ]
    },
    {
     "data": {
      "image/png": "[encoded data removed]",
      "text/plain": [
       "<matplotlib.figure.Figure at 0x7f39b63c6e10>"
      ]
     },
     "metadata": {
      "needs_background": "light"
     },
     "output_type": "display_data"
    }
   ],
   "source": [
    "display_results(all_scores)"
   ]
  },
  {
   "cell_type": "code",
   "execution_count": 18,
   "metadata": {},
   "outputs": [
    {
     "name": "stdout",
     "output_type": "stream",
     "text": [
      "best_run =  0\n"
     ]
    }
   ],
   "source": [
    "# Identify the run with the largest score and load weights from the appropriate checkpoint file\n",
    "#print(all_avg_scores)\n",
    "best_run = np.argmax(all_avg_scores)\n",
    "print('best_run = ', best_run)"
   ]
  },
  {
   "cell_type": "code",
   "execution_count": 19,
   "metadata": {},
   "outputs": [],
   "source": [
    "import torch\n",
    "\n",
    "agent.load_model(best_run)"
   ]
  },
  {
   "cell_type": "code",
   "execution_count": 20,
   "metadata": {},
   "outputs": [],
   "source": [
    "def watch_trained_agent_for_one_episode(agent, nepisodes):\n",
    "    env_info = env.reset(train_mode=False)[brain_name]\n",
    "    #states = env_info.vector_observations\n",
    "    states = np.reshape(env_info.vector_observations, (1,-1))\n",
    "    #print('states.shape = ',states.shape)\n",
    "            \n",
    "    # Reset the agents noise\n",
    "    #agent.reset_noise()\n",
    "    \n",
    "    for i in range(nepisodes):\n",
    "        while True:\n",
    "            actions = agent.act(states)\n",
    "            env_info = env.step(actions)[brain_name]\n",
    "        \n",
    "            #next_states = env_info.vector_observations\n",
    "            next_states = np.reshape(env_info.vector_observations, (1,-1))\n",
    "        \n",
    "            rewards = env_info.rewards\n",
    "            dones = env_info.local_done\n",
    "            states = next_states\n",
    "            if any(dones):\n",
    "                break"
   ]
  },
  {
   "cell_type": "code",
   "execution_count": 21,
   "metadata": {},
   "outputs": [],
   "source": [
    "watch_trained_agent_for_one_episode(agent, 10)"
   ]
  }
 ],
 "metadata": {
  "kernelspec": {
   "display_name": "Python 3",
   "language": "python",
   "name": "python3"
  },
  "language_info": {
   "codemirror_mode": {
    "name": "ipython",
    "version": 3
   },
   "file_extension": ".py",
   "mimetype": "text/x-python",
   "name": "python",
   "nbconvert_exporter": "python",
   "pygments_lexer": "ipython3",
   "version": "3.6.3"
  }
 },
 "nbformat": 4,
 "nbformat_minor": 2
}
